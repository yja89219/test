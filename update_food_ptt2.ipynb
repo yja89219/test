{
 "cells": [
  {
   "cell_type": "code",
   "execution_count": 6,
   "metadata": {},
   "outputs": [
    {
     "name": "stderr",
     "output_type": "stream",
     "text": [
      "C:\\Users\\User\\Anaconda3\\lib\\site-packages\\urllib3\\connectionpool.py:847: InsecureRequestWarning: Unverified HTTPS request is being made. Adding certificate verification is strongly advised. See: https://urllib3.readthedocs.io/en/latest/advanced-usage.html#ssl-warnings\n",
      "  InsecureRequestWarning)\n"
     ]
    },
    {
     "ename": "NameError",
     "evalue": "name 'food_total' is not defined",
     "output_type": "error",
     "traceback": [
      "\u001b[1;31m---------------------------------------------------------------------------\u001b[0m",
      "\u001b[1;31mNameError\u001b[0m                                 Traceback (most recent call last)",
      "\u001b[1;32m<ipython-input-6-733cb2aa0564>\u001b[0m in \u001b[0;36m<module>\u001b[1;34m\u001b[0m\n\u001b[0;32m     27\u001b[0m     \u001b[0mptt_pages_url\u001b[0m \u001b[1;33m=\u001b[0m \u001b[1;34mf'https://www.ptt.cc/bbs/Food/index{i}.html'\u001b[0m\u001b[1;33m\u001b[0m\u001b[1;33m\u001b[0m\u001b[0m\n\u001b[0;32m     28\u001b[0m     \u001b[0mfood\u001b[0m \u001b[1;33m=\u001b[0m \u001b[0mget_info\u001b[0m\u001b[1;33m(\u001b[0m\u001b[0mptt_pages_url\u001b[0m\u001b[1;33m)\u001b[0m\u001b[1;33m\u001b[0m\u001b[1;33m\u001b[0m\u001b[0m\n\u001b[1;32m---> 29\u001b[1;33m     \u001b[0mfood_total\u001b[0m \u001b[1;33m=\u001b[0m \u001b[0mpd\u001b[0m\u001b[1;33m.\u001b[0m\u001b[0mconcat\u001b[0m\u001b[1;33m(\u001b[0m\u001b[1;33m[\u001b[0m\u001b[0mfood_total\u001b[0m\u001b[1;33m,\u001b[0m\u001b[0mfood\u001b[0m\u001b[1;33m]\u001b[0m\u001b[1;33m)\u001b[0m\u001b[1;33m\u001b[0m\u001b[1;33m\u001b[0m\u001b[0m\n\u001b[0m\u001b[0;32m     30\u001b[0m \u001b[1;33m\u001b[0m\u001b[0m\n",
      "\u001b[1;31mNameError\u001b[0m: name 'food_total' is not defined"
     ]
    }
   ],
   "source": [
    "import requests\n",
    "from bs4 import BeautifulSoup\n",
    "import pandas as pd\n",
    "\n",
    "def get_info(ptt_url):\n",
    "    r = requests.get(ptt_url, verify= False)\n",
    "    html_str = r.text\n",
    "    soup = BeautifulSoup(html_str)\n",
    "    title = [i.text.split() for i in soup.select('.title')] #split()可幫忙去除空格符號\n",
    "    author_name = [i.text.split()[0] for i in soup.select('.author')]\n",
    "    date = [i.text.split()[0] for i in soup.select('.date')]\n",
    "    \n",
    "    articles_url = list()\n",
    "    for i in soup.select('.title a'):\n",
    "        route = 'https://www.ptt.cc'+i.get('href')\n",
    "        articles_url.append(route)\n",
    "    \n",
    "    \n",
    "    food_board = pd.DataFrame()\n",
    "    food_board['titles'] = title\n",
    "    food_board['author_names'] = author_name\n",
    "    food_board['dates'] = date\n",
    "    food_board['urls'] = articles_url\n",
    "    return   food_board\n",
    "\n",
    "for i in range(1,2):\n",
    "    ptt_pages_url = f'https://www.ptt.cc/bbs/Food/index{i}.html'\n",
    "    food = get_info(ptt_pages_url)\n",
    "    food_total = pd.concat([food_total,food])\n",
    "    \n"
   ]
  },
  {
   "cell_type": "code",
   "execution_count": 2,
   "metadata": {},
   "outputs": [
    {
     "ename": "NameError",
     "evalue": "name 'food_total' is not defined",
     "output_type": "error",
     "traceback": [
      "\u001b[1;31m---------------------------------------------------------------------------\u001b[0m",
      "\u001b[1;31mNameError\u001b[0m                                 Traceback (most recent call last)",
      "\u001b[1;32m<ipython-input-2-1ff0c9b634d2>\u001b[0m in \u001b[0;36m<module>\u001b[1;34m\u001b[0m\n\u001b[1;32m----> 1\u001b[1;33m \u001b[0mfood_total\u001b[0m\u001b[1;33m\u001b[0m\u001b[1;33m\u001b[0m\u001b[0m\n\u001b[0m",
      "\u001b[1;31mNameError\u001b[0m: name 'food_total' is not defined"
     ]
    }
   ],
   "source": [
    "food_total"
   ]
  },
  {
   "cell_type": "code",
   "execution_count": null,
   "metadata": {},
   "outputs": [],
   "source": [
    "a = food_total['urls'][0:1]\n",
    "b = str(a)\n",
    "b"
   ]
  },
  {
   "cell_type": "code",
   "execution_count": null,
   "metadata": {},
   "outputs": [],
   "source": [
    "content_url = food_total['urls']\n",
    "\n",
    "content = []\n",
    "for i in content_url:\n",
    "    r2 = requests.get(i)\n",
    "    soup = BeautifulSoup(r2.text,'html')\n",
    "    soup = soup.select('#main-content')\n",
    "    main_content = soup[0].text\n",
    "    print(main_content)"
   ]
  },
  {
   "cell_type": "code",
   "execution_count": 5,
   "metadata": {},
   "outputs": [
    {
     "name": "stdout",
     "output_type": "stream",
     "text": [
      "時間Sun May 26 19:04:09 2019\n",
      "-------------------------\n"
     ]
    },
    {
     "ename": "NameError",
     "evalue": "name 'main_article' is not defined",
     "output_type": "error",
     "traceback": [
      "\u001b[1;31m---------------------------------------------------------------------------\u001b[0m",
      "\u001b[1;31mNameError\u001b[0m                                 Traceback (most recent call last)",
      "\u001b[1;32m<ipython-input-5-f4362c20ddea>\u001b[0m in \u001b[0;36m<module>\u001b[1;34m\u001b[0m\n\u001b[0;32m     10\u001b[0m \u001b[0mprint\u001b[0m\u001b[1;33m(\u001b[0m\u001b[0mtop_content_time\u001b[0m\u001b[1;33m)\u001b[0m\u001b[1;33m\u001b[0m\u001b[1;33m\u001b[0m\u001b[0m\n\u001b[0;32m     11\u001b[0m \u001b[0mprint\u001b[0m\u001b[1;33m(\u001b[0m\u001b[1;34m'-------------------------'\u001b[0m\u001b[1;33m)\u001b[0m\u001b[1;33m\u001b[0m\u001b[1;33m\u001b[0m\u001b[0m\n\u001b[1;32m---> 12\u001b[1;33m \u001b[0mprint\u001b[0m\u001b[1;33m(\u001b[0m\u001b[0mmain_article\u001b[0m\u001b[1;33m)\u001b[0m\u001b[1;33m\u001b[0m\u001b[1;33m\u001b[0m\u001b[0m\n\u001b[0m\u001b[0;32m     13\u001b[0m \u001b[1;33m\u001b[0m\u001b[0m\n\u001b[0;32m     14\u001b[0m \u001b[0mprint\u001b[0m\u001b[1;33m(\u001b[0m\u001b[1;34m'-------------------------'\u001b[0m\u001b[1;33m)\u001b[0m\u001b[1;33m\u001b[0m\u001b[1;33m\u001b[0m\u001b[0m\n",
      "\u001b[1;31mNameError\u001b[0m: name 'main_article' is not defined"
     ]
    }
   ],
   "source": [
    "import requests\n",
    "from bs4 import BeautifulSoup\n",
    "import pandas as pd\n",
    "\n",
    "r2 = requests.get('https://www.ptt.cc/bbs/Food/M.1558868653.A.CC1.html')\n",
    "aa = BeautifulSoup(r2.text,'html')\n",
    "#top_content = [i.text for i in aa.select('.article-metaline')]\n",
    "top_content_time = [aa.select('.article-metaline')][0][2]\n",
    "top_content_time = top_content_time.text\n",
    "print(top_content_time)\n",
    "print('-------------------------')\n",
    "print(main_article)\n",
    "\n",
    "print('-------------------------')\n",
    "\n",
    "# tags = aa.select('.article-metaline')[0]\n",
    "# tags = tags.text\n",
    "\n",
    "tags = [i.text for i in aa.select('.article-metaline')]\n",
    "print(tags)\n",
    "print('1 -------------------------')\n",
    "\n",
    "str_tags = ''.join(tags)\n",
    "print(str_tags)\n",
    "\n",
    "print('2 -------------------------')\n",
    "\n",
    "main_article = aa.select('#main-content')[0]\n",
    "a= main_article.text.strip(str_tags)\n",
    "print(a)\n",
    "\n",
    "print('3-------------------------')\n",
    "\n",
    "new_content = []\n",
    "for i in main_article:\n",
    "    if  '\"\"' in main_article:\n",
    "        contents = main_article.split('\\\"\"')\n",
    "        new_content.append(contents)\n",
    "        print(new_content)\n",
    "\n",
    "\n",
    "# new_content=[]\n",
    "# if  tags in main_article:\n",
    "#     contents = main_article.strip(tags)\n",
    "#     print(contents)\n",
    "# main_content = soup[0].text\n",
    "# main_content.select('.article-metaline')\n",
    "# print(main_content)\n",
    "\n"
   ]
  },
  {
   "cell_type": "code",
   "execution_count": null,
   "metadata": {},
   "outputs": [],
   "source": [
    "# list\n",
    "bbb = ['aaa']\n",
    "app = '<><> aaa aaa , , '\n",
    "new = app.split()\n",
    "news = new.remove('aaa')\n",
    "print(new)"
   ]
  },
  {
   "cell_type": "code",
   "execution_count": null,
   "metadata": {},
   "outputs": [],
   "source": [
    "import re\n",
    "\n",
    "bbb = ', <><>'\n",
    "bs = bbb.split()\n",
    "abb = bs[1]\n",
    "\n",
    "app = '<><> aaa aaa , , '\n",
    "apps = app.split() \n",
    "\n",
    "new = re.sub()\n",
    "\n",
    "\n",
    "# new = apps.remove(bs)\n",
    "# new_content= []\n",
    "# for i in range(len(apps)):\n",
    "#     if i == bs:\n",
    "#         newx = apps.remove(i)\n",
    "#         new_content.append()\n",
    "#         print(newx)\n"
   ]
  },
  {
   "cell_type": "code",
   "execution_count": null,
   "metadata": {},
   "outputs": [],
   "source": [
    "print(abb)\n",
    "type(abb)\n",
    "len(apps)"
   ]
  },
  {
   "cell_type": "code",
   "execution_count": null,
   "metadata": {},
   "outputs": [],
   "source": []
  },
  {
   "cell_type": "code",
   "execution_count": null,
   "metadata": {},
   "outputs": [],
   "source": [
    "abc = 'afhlfshlhsfldhlsf'\n",
    "bbbb= 'afhlfshlhsfldhlsf   fffff'\n",
    "bew = bbbb.filter(bbbb, )\n",
    "print(bew)"
   ]
  },
  {
   "cell_type": "code",
   "execution_count": null,
   "metadata": {},
   "outputs": [],
   "source": [
    "type(bew)"
   ]
  },
  {
   "cell_type": "code",
   "execution_count": null,
   "metadata": {},
   "outputs": [],
   "source": [
    "if a in main_article:\n",
    "    tags = aa.select('.article-metaline')\n",
    "    main_article = aa.select('#main-content')[0]\n",
    "    contents = main_article.strip(tags)\n",
    "print(main_article)"
   ]
  },
  {
   "cell_type": "code",
   "execution_count": null,
   "metadata": {},
   "outputs": [],
   "source": [
    "\n",
    "tags = ['aaa',]\n",
    "main_article = aa.select('#main-content')[0]\n",
    "print(tags)\n",
    "\n",
    "print('-------------------------')\n",
    "\n",
    "new_content=[]\n",
    "if  tags in main_article:\n",
    "    contents = main_article.remove(tags)\n",
    "    print(contents)"
   ]
  },
  {
   "cell_type": "code",
   "execution_count": null,
   "metadata": {},
   "outputs": [],
   "source": [
    "import requests\n",
    "from bs4 import BeautifulSoup\n",
    "import pandas as pd\n",
    "\n",
    "b = [] \n",
    "new_contents = [] \n",
    "for i in a:\n",
    "    r2 = requests.get(i)\n",
    "    soup = BeautifulSoup(r2.text,'html')\n",
    "    \n",
    "    soup = soup.select('#main-content')\n",
    "    main_content = soup[0].text\n",
    "    if  '--' in main_content:\n",
    "        contents = main_content.split(\"--\")\n",
    "        new_contents.append(contents)\n",
    "        \n"
   ]
  },
  {
   "cell_type": "code",
   "execution_count": null,
   "metadata": {},
   "outputs": [],
   "source": [
    "new_contents"
   ]
  },
  {
   "cell_type": "code",
   "execution_count": null,
   "metadata": {},
   "outputs": [],
   "source": [
    "new_contents[0][0].replace(\"\\n\",\"\")"
   ]
  },
  {
   "cell_type": "code",
   "execution_count": null,
   "metadata": {},
   "outputs": [],
   "source": [
    "\n",
    "\n",
    "r = requests.get('https://www.ptt.cc/bbs/Food/index1.html',verify = False)\n",
    "html_str = r.text\n",
    "soup = BeautifulSoup(html_str)\n",
    "b = list()\n",
    "for i in soup.select('.title a'):\n",
    "    route = i.get('href')\n",
    "    print(\"https://www.ptt.cc/bbs/Food\" + route)\n",
    "    \n",
    "\n",
    "\n"
   ]
  },
  {
   "cell_type": "code",
   "execution_count": null,
   "metadata": {},
   "outputs": [],
   "source": [
    "ptt_food_df = pd.DataFrame('URL'=a,'Content'=new_contents)"
   ]
  },
  {
   "cell_type": "raw",
   "metadata": {},
   "source": [
    "\n",
    "abc = ('hadddpppp','jajlfjdl')\n",
    "abbb = abc[0,[1,5]]\n",
    "abbb"
   ]
  },
  {
   "cell_type": "code",
   "execution_count": null,
   "metadata": {},
   "outputs": [],
   "source": [
    "\n",
    "abc = ('hadddpppp','jajlfjdl')\n",
    "abbb = abc[0,[1,5]]\n",
    "abbb"
   ]
  }
 ],
 "metadata": {
  "kernelspec": {
   "display_name": "Python 3",
   "language": "python",
   "name": "python3"
  },
  "language_info": {
   "codemirror_mode": {
    "name": "ipython",
    "version": 3
   },
   "file_extension": ".py",
   "mimetype": "text/x-python",
   "name": "python",
   "nbconvert_exporter": "python",
   "pygments_lexer": "ipython3",
   "version": "3.7.1"
  }
 },
 "nbformat": 4,
 "nbformat_minor": 2
}
